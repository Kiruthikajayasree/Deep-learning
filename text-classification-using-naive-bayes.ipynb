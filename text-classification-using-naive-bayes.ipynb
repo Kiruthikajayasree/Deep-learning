{
 "cells": [
  {
   "cell_type": "code",
   "execution_count": 1,
   "id": "1c3bc9e1",
   "metadata": {
    "_cell_guid": "b1076dfc-b9ad-4769-8c92-a6c4dae69d19",
    "_uuid": "8f2839f25d086af736a60e9eeb907d3b93b6e0e5",
    "execution": {
     "iopub.execute_input": "2025-08-12T04:30:36.173621Z",
     "iopub.status.busy": "2025-08-12T04:30:36.173356Z",
     "iopub.status.idle": "2025-08-12T04:30:37.748237Z",
     "shell.execute_reply": "2025-08-12T04:30:37.747530Z"
    },
    "papermill": {
     "duration": 1.579881,
     "end_time": "2025-08-12T04:30:37.749442",
     "exception": false,
     "start_time": "2025-08-12T04:30:36.169561",
     "status": "completed"
    },
    "tags": []
   },
   "outputs": [
    {
     "name": "stdout",
     "output_type": "stream",
     "text": [
      "                                           text       category\n",
      "0  Football match ended with a last-minute goal         sports\n",
      "1               Senate approves new budget bill       politics\n",
      "2           New smartphone breaks sales records     technology\n",
      "3     Breakthrough in cancer research announced         health\n",
      "4            Blockbuster movie crosses $1B mark  entertainment\n"
     ]
    }
   ],
   "source": [
    "import pandas as pd\n",
    "df=pd.read_csv('/kaggle/input/news-news/news_dataset.csv')\n",
    "print(df.head())\n"
   ]
  },
  {
   "cell_type": "code",
   "execution_count": 2,
   "id": "0014dfeb",
   "metadata": {
    "execution": {
     "iopub.execute_input": "2025-08-12T04:30:37.754918Z",
     "iopub.status.busy": "2025-08-12T04:30:37.754571Z",
     "iopub.status.idle": "2025-08-12T04:30:39.130490Z",
     "shell.execute_reply": "2025-08-12T04:30:39.129564Z"
    },
    "papermill": {
     "duration": 1.380444,
     "end_time": "2025-08-12T04:30:39.132309",
     "exception": false,
     "start_time": "2025-08-12T04:30:37.751865",
     "status": "completed"
    },
    "tags": []
   },
   "outputs": [],
   "source": [
    "from sklearn.feature_extraction.text import CountVectorizer"
   ]
  },
  {
   "cell_type": "code",
   "execution_count": 3,
   "id": "38c3f993",
   "metadata": {
    "execution": {
     "iopub.execute_input": "2025-08-12T04:30:39.140288Z",
     "iopub.status.busy": "2025-08-12T04:30:39.139908Z",
     "iopub.status.idle": "2025-08-12T04:30:39.252499Z",
     "shell.execute_reply": "2025-08-12T04:30:39.251795Z"
    },
    "papermill": {
     "duration": 0.117288,
     "end_time": "2025-08-12T04:30:39.254066",
     "exception": false,
     "start_time": "2025-08-12T04:30:39.136778",
     "status": "completed"
    },
    "tags": []
   },
   "outputs": [],
   "source": [
    "from sklearn.model_selection import train_test_split\n",
    "from sklearn.naive_bayes import MultinomialNB\n",
    "from sklearn.metrics import classification_report"
   ]
  },
  {
   "cell_type": "code",
   "execution_count": 4,
   "id": "e78427b6",
   "metadata": {
    "execution": {
     "iopub.execute_input": "2025-08-12T04:30:39.259366Z",
     "iopub.status.busy": "2025-08-12T04:30:39.259104Z",
     "iopub.status.idle": "2025-08-12T04:30:39.264421Z",
     "shell.execute_reply": "2025-08-12T04:30:39.263600Z"
    },
    "papermill": {
     "duration": 0.009055,
     "end_time": "2025-08-12T04:30:39.265452",
     "exception": false,
     "start_time": "2025-08-12T04:30:39.256397",
     "status": "completed"
    },
    "tags": []
   },
   "outputs": [],
   "source": [
    "X=df['text']\n",
    "y=df['category']"
   ]
  },
  {
   "cell_type": "code",
   "execution_count": 5,
   "id": "7cf4a9c8",
   "metadata": {
    "execution": {
     "iopub.execute_input": "2025-08-12T04:30:39.270719Z",
     "iopub.status.busy": "2025-08-12T04:30:39.270395Z",
     "iopub.status.idle": "2025-08-12T04:30:39.289000Z",
     "shell.execute_reply": "2025-08-12T04:30:39.288228Z"
    },
    "papermill": {
     "duration": 0.022689,
     "end_time": "2025-08-12T04:30:39.290253",
     "exception": false,
     "start_time": "2025-08-12T04:30:39.267564",
     "status": "completed"
    },
    "tags": []
   },
   "outputs": [],
   "source": [
    "X_train,X_test,y_train,y_test=train_test_split(X,y,test_size=0.2,random_state=42)\n",
    "Vectorizer=CountVectorizer()\n",
    "X_train_counts=Vectorizer.fit_transform(X_train)\n",
    "X_test_counts=Vectorizer.transform(X_test)"
   ]
  },
  {
   "cell_type": "code",
   "execution_count": 6,
   "id": "e8b0d4ac",
   "metadata": {
    "execution": {
     "iopub.execute_input": "2025-08-12T04:30:39.295352Z",
     "iopub.status.busy": "2025-08-12T04:30:39.295051Z",
     "iopub.status.idle": "2025-08-12T04:30:39.299177Z",
     "shell.execute_reply": "2025-08-12T04:30:39.298453Z"
    },
    "papermill": {
     "duration": 0.007842,
     "end_time": "2025-08-12T04:30:39.300141",
     "exception": false,
     "start_time": "2025-08-12T04:30:39.292299",
     "status": "completed"
    },
    "tags": []
   },
   "outputs": [],
   "source": [
    "clf=MultinomialNB()"
   ]
  },
  {
   "cell_type": "code",
   "execution_count": 7,
   "id": "a5cea9ea",
   "metadata": {
    "execution": {
     "iopub.execute_input": "2025-08-12T04:30:39.304654Z",
     "iopub.status.busy": "2025-08-12T04:30:39.304424Z",
     "iopub.status.idle": "2025-08-12T04:30:39.321444Z",
     "shell.execute_reply": "2025-08-12T04:30:39.320726Z"
    },
    "papermill": {
     "duration": 0.020446,
     "end_time": "2025-08-12T04:30:39.322480",
     "exception": false,
     "start_time": "2025-08-12T04:30:39.302034",
     "status": "completed"
    },
    "tags": []
   },
   "outputs": [
    {
     "data": {
      "text/html": [
       "<style>#sk-container-id-1 {color: black;background-color: white;}#sk-container-id-1 pre{padding: 0;}#sk-container-id-1 div.sk-toggleable {background-color: white;}#sk-container-id-1 label.sk-toggleable__label {cursor: pointer;display: block;width: 100%;margin-bottom: 0;padding: 0.3em;box-sizing: border-box;text-align: center;}#sk-container-id-1 label.sk-toggleable__label-arrow:before {content: \"▸\";float: left;margin-right: 0.25em;color: #696969;}#sk-container-id-1 label.sk-toggleable__label-arrow:hover:before {color: black;}#sk-container-id-1 div.sk-estimator:hover label.sk-toggleable__label-arrow:before {color: black;}#sk-container-id-1 div.sk-toggleable__content {max-height: 0;max-width: 0;overflow: hidden;text-align: left;background-color: #f0f8ff;}#sk-container-id-1 div.sk-toggleable__content pre {margin: 0.2em;color: black;border-radius: 0.25em;background-color: #f0f8ff;}#sk-container-id-1 input.sk-toggleable__control:checked~div.sk-toggleable__content {max-height: 200px;max-width: 100%;overflow: auto;}#sk-container-id-1 input.sk-toggleable__control:checked~label.sk-toggleable__label-arrow:before {content: \"▾\";}#sk-container-id-1 div.sk-estimator input.sk-toggleable__control:checked~label.sk-toggleable__label {background-color: #d4ebff;}#sk-container-id-1 div.sk-label input.sk-toggleable__control:checked~label.sk-toggleable__label {background-color: #d4ebff;}#sk-container-id-1 input.sk-hidden--visually {border: 0;clip: rect(1px 1px 1px 1px);clip: rect(1px, 1px, 1px, 1px);height: 1px;margin: -1px;overflow: hidden;padding: 0;position: absolute;width: 1px;}#sk-container-id-1 div.sk-estimator {font-family: monospace;background-color: #f0f8ff;border: 1px dotted black;border-radius: 0.25em;box-sizing: border-box;margin-bottom: 0.5em;}#sk-container-id-1 div.sk-estimator:hover {background-color: #d4ebff;}#sk-container-id-1 div.sk-parallel-item::after {content: \"\";width: 100%;border-bottom: 1px solid gray;flex-grow: 1;}#sk-container-id-1 div.sk-label:hover label.sk-toggleable__label {background-color: #d4ebff;}#sk-container-id-1 div.sk-serial::before {content: \"\";position: absolute;border-left: 1px solid gray;box-sizing: border-box;top: 0;bottom: 0;left: 50%;z-index: 0;}#sk-container-id-1 div.sk-serial {display: flex;flex-direction: column;align-items: center;background-color: white;padding-right: 0.2em;padding-left: 0.2em;position: relative;}#sk-container-id-1 div.sk-item {position: relative;z-index: 1;}#sk-container-id-1 div.sk-parallel {display: flex;align-items: stretch;justify-content: center;background-color: white;position: relative;}#sk-container-id-1 div.sk-item::before, #sk-container-id-1 div.sk-parallel-item::before {content: \"\";position: absolute;border-left: 1px solid gray;box-sizing: border-box;top: 0;bottom: 0;left: 50%;z-index: -1;}#sk-container-id-1 div.sk-parallel-item {display: flex;flex-direction: column;z-index: 1;position: relative;background-color: white;}#sk-container-id-1 div.sk-parallel-item:first-child::after {align-self: flex-end;width: 50%;}#sk-container-id-1 div.sk-parallel-item:last-child::after {align-self: flex-start;width: 50%;}#sk-container-id-1 div.sk-parallel-item:only-child::after {width: 0;}#sk-container-id-1 div.sk-dashed-wrapped {border: 1px dashed gray;margin: 0 0.4em 0.5em 0.4em;box-sizing: border-box;padding-bottom: 0.4em;background-color: white;}#sk-container-id-1 div.sk-label label {font-family: monospace;font-weight: bold;display: inline-block;line-height: 1.2em;}#sk-container-id-1 div.sk-label-container {text-align: center;}#sk-container-id-1 div.sk-container {/* jupyter's `normalize.less` sets `[hidden] { display: none; }` but bootstrap.min.css set `[hidden] { display: none !important; }` so we also need the `!important` here to be able to override the default hidden behavior on the sphinx rendered scikit-learn.org. See: https://github.com/scikit-learn/scikit-learn/issues/21755 */display: inline-block !important;position: relative;}#sk-container-id-1 div.sk-text-repr-fallback {display: none;}</style><div id=\"sk-container-id-1\" class=\"sk-top-container\"><div class=\"sk-text-repr-fallback\"><pre>MultinomialNB()</pre><b>In a Jupyter environment, please rerun this cell to show the HTML representation or trust the notebook. <br />On GitHub, the HTML representation is unable to render, please try loading this page with nbviewer.org.</b></div><div class=\"sk-container\" hidden><div class=\"sk-item\"><div class=\"sk-estimator sk-toggleable\"><input class=\"sk-toggleable__control sk-hidden--visually\" id=\"sk-estimator-id-1\" type=\"checkbox\" checked><label for=\"sk-estimator-id-1\" class=\"sk-toggleable__label sk-toggleable__label-arrow\">MultinomialNB</label><div class=\"sk-toggleable__content\"><pre>MultinomialNB()</pre></div></div></div></div></div>"
      ],
      "text/plain": [
       "MultinomialNB()"
      ]
     },
     "execution_count": 7,
     "metadata": {},
     "output_type": "execute_result"
    }
   ],
   "source": [
    "clf.fit(X_train_counts,y_train)"
   ]
  },
  {
   "cell_type": "code",
   "execution_count": 8,
   "id": "a49c8e5f",
   "metadata": {
    "execution": {
     "iopub.execute_input": "2025-08-12T04:30:39.327360Z",
     "iopub.status.busy": "2025-08-12T04:30:39.327142Z",
     "iopub.status.idle": "2025-08-12T04:30:39.331192Z",
     "shell.execute_reply": "2025-08-12T04:30:39.330727Z"
    },
    "papermill": {
     "duration": 0.007409,
     "end_time": "2025-08-12T04:30:39.332101",
     "exception": false,
     "start_time": "2025-08-12T04:30:39.324692",
     "status": "completed"
    },
    "tags": []
   },
   "outputs": [],
   "source": [
    "y_pred=clf.predict(X_test_counts)"
   ]
  },
  {
   "cell_type": "code",
   "execution_count": 9,
   "id": "94b05a20",
   "metadata": {
    "execution": {
     "iopub.execute_input": "2025-08-12T04:30:39.337145Z",
     "iopub.status.busy": "2025-08-12T04:30:39.336860Z",
     "iopub.status.idle": "2025-08-12T04:30:39.347531Z",
     "shell.execute_reply": "2025-08-12T04:30:39.346740Z"
    },
    "papermill": {
     "duration": 0.014641,
     "end_time": "2025-08-12T04:30:39.348681",
     "exception": false,
     "start_time": "2025-08-12T04:30:39.334040",
     "status": "completed"
    },
    "tags": []
   },
   "outputs": [
    {
     "name": "stdout",
     "output_type": "stream",
     "text": [
      "               precision    recall  f1-score   support\n",
      "\n",
      "entertainment       0.33      0.67      0.44         3\n",
      "       health       0.40      1.00      0.57         2\n",
      "     politics       1.00      0.25      0.40         4\n",
      "       sports       0.67      0.29      0.40         7\n",
      "   technology       0.67      1.00      0.80         2\n",
      "\n",
      "     accuracy                           0.50        18\n",
      "    macro avg       0.61      0.64      0.52        18\n",
      " weighted avg       0.66      0.50      0.47        18\n",
      "\n"
     ]
    }
   ],
   "source": [
    "print(classification_report(y_test,y_pred))"
   ]
  },
  {
   "cell_type": "code",
   "execution_count": null,
   "id": "a6839326",
   "metadata": {
    "papermill": {
     "duration": 0.001783,
     "end_time": "2025-08-12T04:30:39.352475",
     "exception": false,
     "start_time": "2025-08-12T04:30:39.350692",
     "status": "completed"
    },
    "tags": []
   },
   "outputs": [],
   "source": []
  }
 ],
 "metadata": {
  "kaggle": {
   "accelerator": "none",
   "dataSources": [
    {
     "datasetId": 8052810,
     "sourceId": 12739534,
     "sourceType": "datasetVersion"
    },
    {
     "datasetId": 8052863,
     "sourceId": 12739609,
     "sourceType": "datasetVersion"
    },
    {
     "datasetId": 8052938,
     "sourceId": 12739708,
     "sourceType": "datasetVersion"
    }
   ],
   "dockerImageVersionId": 31089,
   "isGpuEnabled": false,
   "isInternetEnabled": false,
   "language": "python",
   "sourceType": "notebook"
  },
  "kernelspec": {
   "display_name": "Python 3",
   "language": "python",
   "name": "python3"
  },
  "language_info": {
   "codemirror_mode": {
    "name": "ipython",
    "version": 3
   },
   "file_extension": ".py",
   "mimetype": "text/x-python",
   "name": "python",
   "nbconvert_exporter": "python",
   "pygments_lexer": "ipython3",
   "version": "3.11.13"
  },
  "papermill": {
   "default_parameters": {},
   "duration": 7.841475,
   "end_time": "2025-08-12T04:30:39.973527",
   "environment_variables": {},
   "exception": null,
   "input_path": "__notebook__.ipynb",
   "output_path": "__notebook__.ipynb",
   "parameters": {},
   "start_time": "2025-08-12T04:30:32.132052",
   "version": "2.6.0"
  }
 },
 "nbformat": 4,
 "nbformat_minor": 5
}
